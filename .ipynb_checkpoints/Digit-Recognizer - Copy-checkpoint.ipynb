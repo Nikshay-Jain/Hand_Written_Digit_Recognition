{
 "cells": [
  {
   "cell_type": "markdown",
   "id": "8e7e7815",
   "metadata": {},
   "source": [
    "## Analysing and processing the dataset"
   ]
  },
  {
   "cell_type": "code",
   "execution_count": 1,
   "id": "b94e68e8",
   "metadata": {},
   "outputs": [],
   "source": [
    "import tensorflow as tf\n",
    "from tensorflow.keras import layers\n",
    "import matplotlib.pyplot as plt\n",
    "import pandas as pd\n",
    "import numpy as np"
   ]
  },
  {
   "cell_type": "code",
   "execution_count": 2,
   "id": "630b3dd6",
   "metadata": {},
   "outputs": [],
   "source": [
    "digits = tf.keras.datasets.mnist\n",
    "(train, y_train), (test, y_test) = digits.load_data()"
   ]
  },
  {
   "cell_type": "markdown",
   "id": "11d9ed64",
   "metadata": {},
   "source": [
    "train = pd.read_csv('train.csv')\n",
    "y_train = train.pop('label')"
   ]
  },
  {
   "cell_type": "markdown",
   "id": "82c513b4",
   "metadata": {},
   "source": [
    "train = train.to_numpy()\n",
    "train = train.astype('uint8')"
   ]
  },
  {
   "cell_type": "markdown",
   "id": "8a0e0dff",
   "metadata": {},
   "source": [
    "test = pd.read_csv('test.csv')\n",
    "test = test.to_numpy()\n",
    "test = test.astype('uint8')"
   ]
  },
  {
   "cell_type": "markdown",
   "id": "2412004b",
   "metadata": {},
   "source": [
    "y_test = pd.read_csv('sample_submission.csv')\n",
    "y_test = y_test.drop('ImageId', axis = 1)\n",
    "y_test = y_test.to_numpy()\n",
    "y_test = y_test.astype('uint8')"
   ]
  },
  {
   "cell_type": "code",
   "execution_count": 3,
   "id": "2226eb4f",
   "metadata": {
    "scrolled": true
   },
   "outputs": [
    {
     "data": {
      "text/plain": [
       "(10000, 28, 28)"
      ]
     },
     "execution_count": 3,
     "metadata": {},
     "output_type": "execute_result"
    }
   ],
   "source": [
    "test.shape"
   ]
  },
  {
   "cell_type": "code",
   "execution_count": 4,
   "id": "9917d69f",
   "metadata": {},
   "outputs": [],
   "source": [
    "#no betn 0 and 9 to indicate 10 diff classes\n",
    "class_name = [0,1,2,3,4,5,6,7,8,9]"
   ]
  },
  {
   "cell_type": "code",
   "execution_count": 5,
   "id": "cebd06e5",
   "metadata": {},
   "outputs": [
    {
     "data": {
      "image/png": "[encoded data removed]",
      "text/plain": [
       "<Figure size 640x480 with 2 Axes>"
      ]
     },
     "metadata": {},
     "output_type": "display_data"
    }
   ],
   "source": [
    "#Visualise the image\n",
    "plt.imshow(train[5248])\n",
    "plt.colorbar()\n",
    "plt.show()"
   ]
  },
  {
   "cell_type": "markdown",
   "id": "696ad271",
   "metadata": {},
   "source": [
    "#### To make it easy for the NN to process the pixel values, we squeeze them to 0 to 1 by dividing by 255."
   ]
  },
  {
   "cell_type": "code",
   "execution_count": 6,
   "id": "34725205",
   "metadata": {},
   "outputs": [],
   "source": [
    "train = train/255\n",
    "test = test/255"
   ]
  },
  {
   "cell_type": "markdown",
   "id": "484ef9f2",
   "metadata": {},
   "source": [
    "## Building the model"
   ]
  },
  {
   "cell_type": "code",
   "execution_count": null,
   "id": "8c40160c",
   "metadata": {},
   "outputs": [
    {
     "name": "stdout",
     "output_type": "stream",
     "text": [
      "\n",
      " 0 \n",
      "\n"
     ]
    },
    {
     "name": "stderr",
     "output_type": "stream",
     "text": [
      "c:\\users\\nikshay jain\\appdata\\local\\programs\\python\\python38\\lib\\site-packages\\keras\\backend.py:5612: UserWarning: \"`sparse_categorical_crossentropy` received `from_logits=True`, but the `output` argument was produced by a Softmax activation and thus does not represent logits. Was this intended?\n",
      "  output, from_logits = _get_logits(\n"
     ]
    },
    {
     "name": "stdout",
     "output_type": "stream",
     "text": [
      "1875/1875 [==============================] - 3s 1ms/step - loss: 2.3026 - accuracy: 0.0987\n",
      "313/313 [==============================] - 0s 949us/step - loss: 2.3026 - accuracy: 0.0980\n",
      "\n",
      " 1 \n",
      "\n",
      "1875/1875 [==============================] - 2s 1ms/step - loss: 1.9503 - accuracy: 0.2260\n",
      "313/313 [==============================] - 0s 1ms/step - loss: 1.8286 - accuracy: 0.2629\n",
      "\n",
      " 2 \n",
      "\n",
      "1875/1875 [==============================] - 3s 1ms/step - loss: 1.5700 - accuracy: 0.4339\n",
      "313/313 [==============================] - 0s 1ms/step - loss: 1.3298 - accuracy: 0.5193\n",
      "\n",
      " 3 \n",
      "\n",
      "1875/1875 [==============================] - 3s 1ms/step - loss: 1.3154 - accuracy: 0.5587\n",
      "313/313 [==============================] - 0s 1ms/step - loss: 0.9085 - accuracy: 0.7114\n",
      "\n",
      " 4 \n",
      "\n",
      "1875/1875 [==============================] - 3s 1ms/step - loss: 1.0864 - accuracy: 0.6785\n",
      "313/313 [==============================] - 0s 1ms/step - loss: 0.7180 - accuracy: 0.8066\n",
      "\n",
      " 5 \n",
      "\n",
      "1875/1875 [==============================] - 3s 1ms/step - loss: 0.7764 - accuracy: 0.7603\n",
      "313/313 [==============================] - 0s 1ms/step - loss: 0.4686 - accuracy: 0.8634\n",
      "\n",
      " 6 \n",
      "\n",
      "1875/1875 [==============================] - 3s 1ms/step - loss: 0.6762 - accuracy: 0.7973\n",
      "313/313 [==============================] - 1s 2ms/step - loss: 0.4122 - accuracy: 0.8784\n",
      "\n",
      " 7 \n",
      "\n",
      "1875/1875 [==============================] - 3s 1ms/step - loss: 0.5661 - accuracy: 0.8373\n",
      "313/313 [==============================] - 0s 1ms/step - loss: 0.3648 - accuracy: 0.8888\n",
      "\n",
      " 8 \n",
      "\n",
      "1875/1875 [==============================] - 3s 1ms/step - loss: 0.6719 - accuracy: 0.7940\n",
      "313/313 [==============================] - 0s 1ms/step - loss: 0.3511 - accuracy: 0.9004\n",
      "\n",
      " 9 \n",
      "\n",
      "1875/1875 [==============================] - 3s 1ms/step - loss: 0.5983 - accuracy: 0.8269\n",
      "313/313 [==============================] - 1s 1ms/step - loss: 0.3157 - accuracy: 0.9105\n",
      "\n",
      " 10 \n",
      "\n",
      "1875/1875 [==============================] - 3s 2ms/step - loss: 0.5452 - accuracy: 0.8448\n",
      "313/313 [==============================] - 1s 1ms/step - loss: 0.3130 - accuracy: 0.9149\n",
      "\n",
      " 11 \n",
      "\n",
      "1875/1875 [==============================] - 3s 1ms/step - loss: 0.5148 - accuracy: 0.8495\n",
      "313/313 [==============================] - 1s 1ms/step - loss: 0.3057 - accuracy: 0.9102\n",
      "\n",
      " 12 \n",
      "\n",
      "1875/1875 [==============================] - 3s 1ms/step - loss: 0.4673 - accuracy: 0.8681\n",
      "313/313 [==============================] - 0s 1ms/step - loss: 0.2879 - accuracy: 0.9187\n",
      "\n",
      " 13 \n",
      "\n",
      "1875/1875 [==============================] - 3s 2ms/step - loss: 0.4604 - accuracy: 0.8723\n",
      "313/313 [==============================] - 1s 2ms/step - loss: 0.2749 - accuracy: 0.9236\n",
      "\n",
      " 14 \n",
      "\n",
      "1875/1875 [==============================] - 3s 1ms/step - loss: 0.4244 - accuracy: 0.8832\n",
      "313/313 [==============================] - 1s 1ms/step - loss: 0.2737 - accuracy: 0.9209\n",
      "\n",
      " 15 \n",
      "\n",
      "1875/1875 [==============================] - 3s 2ms/step - loss: 0.4261 - accuracy: 0.8820\n",
      "313/313 [==============================] - 0s 1ms/step - loss: 0.2513 - accuracy: 0.9242\n",
      "\n",
      " 16 \n",
      "\n",
      "1875/1875 [==============================] - 3s 1ms/step - loss: 0.4358 - accuracy: 0.8750\n",
      "313/313 [==============================] - 0s 1ms/step - loss: 0.2556 - accuracy: 0.9272\n",
      "\n",
      " 17 \n",
      "\n",
      "1875/1875 [==============================] - 3s 1ms/step - loss: 0.4201 - accuracy: 0.8839\n",
      "313/313 [==============================] - 0s 993us/step - loss: 0.2515 - accuracy: 0.9282\n",
      "\n",
      " 18 \n",
      "\n",
      "1875/1875 [==============================] - 3s 1ms/step - loss: 0.4336 - accuracy: 0.8815\n",
      "313/313 [==============================] - 0s 1ms/step - loss: 0.2738 - accuracy: 0.9195\n",
      "\n",
      " 19 \n",
      "\n",
      "1875/1875 [==============================] - 3s 2ms/step - loss: 0.3946 - accuracy: 0.8917\n",
      "313/313 [==============================] - 1s 1ms/step - loss: 0.2384 - accuracy: 0.9306\n",
      "\n",
      " 20 \n",
      "\n",
      "1875/1875 [==============================] - 3s 1ms/step - loss: 0.4069 - accuracy: 0.8872\n",
      "313/313 [==============================] - 0s 1ms/step - loss: 0.2563 - accuracy: 0.9262\n",
      "\n",
      " 21 \n",
      "\n",
      "1875/1875 [==============================] - 3s 1ms/step - loss: 0.4162 - accuracy: 0.8830\n",
      "313/313 [==============================] - 0s 1ms/step - loss: 0.2418 - accuracy: 0.9310\n",
      "\n",
      " 22 \n",
      "\n",
      "1875/1875 [==============================] - 3s 1ms/step - loss: 0.3966 - accuracy: 0.8874\n",
      "313/313 [==============================] - 0s 1ms/step - loss: 0.2480 - accuracy: 0.9280\n",
      "\n",
      " 23 \n",
      "\n",
      "1875/1875 [==============================] - 3s 1ms/step - loss: 0.3749 - accuracy: 0.8948\n",
      "313/313 [==============================] - 0s 1ms/step - loss: 0.2220 - accuracy: 0.9366\n",
      "\n",
      " 24 \n",
      "\n",
      "1875/1875 [==============================] - 3s 1ms/step - loss: 0.3795 - accuracy: 0.8938\n",
      "313/313 [==============================] - 1s 2ms/step - loss: 0.2441 - accuracy: 0.9295\n",
      "\n",
      " 25 \n",
      "\n",
      "1875/1875 [==============================] - 3s 1ms/step - loss: 0.3657 - accuracy: 0.8992\n",
      "313/313 [==============================] - 1s 1ms/step - loss: 0.2160 - accuracy: 0.9357\n",
      "\n",
      " 26 \n",
      "\n",
      " 998/1875 [==============>...............] - ETA: 1s - loss: 0.4955 - accuracy: 0.8599"
     ]
    }
   ],
   "source": [
    "acc = []\n",
    "for i in range(32):\n",
    "    print(\"\\n\",i,\"\\n\")\n",
    "    model = tf.keras.Sequential([\n",
    "        layers.Flatten(input_shape = (28,28)),\n",
    "        layers.Dense(units = i, activation = 'relu', name = 'L1'),\n",
    "    #     layers.Dense(units = 15, activation = 'linear', name = 'L2'),\n",
    "        layers.Dense(units = 10, activation = 'softmax', name = 'L3'),\n",
    "    ])\n",
    "\n",
    "    model.compile(\n",
    "        optimizer = tf.keras.optimizers.Adam(),\n",
    "        loss = tf.keras.losses.SparseCategoricalCrossentropy(from_logits=True),\n",
    "        metrics = ['accuracy']\n",
    "    )\n",
    "\n",
    "    model.fit(train, y_train, epochs = 1)\n",
    "    test_loss, test_acc = model.evaluate(test, y_test)\n",
    "    acc.append(test_acc)\n",
    "plt.plot(acc)\n",
    "plt.show()"
   ]
  },
  {
   "cell_type": "code",
   "execution_count": null,
   "id": "af501809",
   "metadata": {},
   "outputs": [],
   "source": [
    "model.summary()"
   ]
  },
  {
   "cell_type": "markdown",
   "id": "382f9861",
   "metadata": {},
   "source": [
    "## Compling the model\n",
    "This is hyperparameter tuning where we observe model's performance on changing the optimizers, loss functions, epochs, etc."
   ]
  },
  {
   "cell_type": "code",
   "execution_count": null,
   "id": "0a3aa35a",
   "metadata": {},
   "outputs": [],
   "source": []
  },
  {
   "cell_type": "markdown",
   "id": "5f5a9aa1",
   "metadata": {},
   "source": [
    "## Training the model\n",
    "Accuracy given here is the training accuracy and is generally high as the model sees the same data many times by epochs"
   ]
  },
  {
   "cell_type": "code",
   "execution_count": null,
   "id": "cbdd7b59",
   "metadata": {},
   "outputs": [],
   "source": []
  },
  {
   "cell_type": "markdown",
   "id": "86628814",
   "metadata": {},
   "source": [
    "## Testing the model"
   ]
  },
  {
   "cell_type": "code",
   "execution_count": null,
   "id": "2c16fb64",
   "metadata": {},
   "outputs": [],
   "source": [
    "test_loss, test_acc = model.evaluate(test, y_test)"
   ]
  },
  {
   "cell_type": "markdown",
   "id": "1495ee7d",
   "metadata": {},
   "source": [
    "## Prediction by model"
   ]
  },
  {
   "cell_type": "code",
   "execution_count": null,
   "id": "17adc1bb",
   "metadata": {
    "scrolled": true
   },
   "outputs": [],
   "source": [
    "prediction = model.predict(test)"
   ]
  },
  {
   "cell_type": "code",
   "execution_count": null,
   "id": "df5f57ae",
   "metadata": {},
   "outputs": [],
   "source": [
    "print(\"Predicted:\",class_name[np.argmax(prediction[5248])])\n",
    "print(\"Actual:\", class_name[y_test[5248]])"
   ]
  },
  {
   "cell_type": "code",
   "execution_count": null,
   "id": "fa9578c9",
   "metadata": {},
   "outputs": [],
   "source": []
  }
 ],
 "metadata": {
  "kernelspec": {
   "display_name": "Python 3 (ipykernel)",
   "language": "python",
   "name": "python3"
  },
  "language_info": {
   "codemirror_mode": {
    "name": "ipython",
    "version": 3
   },
   "file_extension": ".py",
   "mimetype": "text/x-python",
   "name": "python",
   "nbconvert_exporter": "python",
   "pygments_lexer": "ipython3",
   "version": "3.8.10"
  }
 },
 "nbformat": 4,
 "nbformat_minor": 5
}
